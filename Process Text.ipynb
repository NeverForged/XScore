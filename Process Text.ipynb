{
 "cells": [
  {
   "cell_type": "code",
   "execution_count": 17,
   "metadata": {
    "collapsed": false
   },
   "outputs": [
    {
     "name": "stdout",
     "output_type": "stream",
     "text": [
      "(17207, 5)\n"
     ]
    }
   ],
   "source": [
    "import pandas as pd\n",
    "\n",
    "df = pd.read_csv('train.tsv', sep='\\t')\n",
    "print(df.shape)"
   ]
  },
  {
   "cell_type": "code",
   "execution_count": 18,
   "metadata": {
    "collapsed": false
   },
   "outputs": [
    {
     "name": "stdout",
     "output_type": "stream",
     "text": [
      "17.880% complete\n",
      "[////////------------------------------------------] Spellchecked...\n",
      "[--------------------------------------------------] Tokenized\n",
      "[--------------------------------------------------] Stemmed\n"
     ]
    },
    {
     "ename": "KeyboardInterrupt",
     "evalue": "",
     "output_type": "error",
     "traceback": [
      "\u001b[0;31m---------------------------------------------------------------------------\u001b[0m",
      "\u001b[0;31mKeyboardInterrupt\u001b[0m                         Traceback (most recent call last)",
      "\u001b[0;32m<ipython-input-18-2e8eae3b580e>\u001b[0m in \u001b[0;36m<module>\u001b[0;34m()\u001b[0m\n\u001b[1;32m     27\u001b[0m     \u001b[0mprint\u001b[0m\u001b[1;33m(\u001b[0m\u001b[1;34m'[{}] Stemmed'\u001b[0m\u001b[1;33m.\u001b[0m\u001b[0mformat\u001b[0m\u001b[1;33m(\u001b[0m\u001b[1;34m'-'\u001b[0m\u001b[1;33m*\u001b[0m\u001b[1;36m50\u001b[0m\u001b[1;33m)\u001b[0m\u001b[1;33m)\u001b[0m\u001b[1;33m\u001b[0m\u001b[0m\n\u001b[1;32m     28\u001b[0m     \u001b[1;32mif\u001b[0m \u001b[1;32mnot\u001b[0m \u001b[1;33m(\u001b[0m\u001b[1;34m'|'\u001b[0m\u001b[1;33m)\u001b[0m \u001b[1;32min\u001b[0m \u001b[0mword\u001b[0m \u001b[1;32mand\u001b[0m \u001b[0mword\u001b[0m\u001b[1;33m.\u001b[0m\u001b[0misalpha\u001b[0m\u001b[1;33m(\u001b[0m\u001b[1;33m)\u001b[0m\u001b[1;33m:\u001b[0m\u001b[1;33m\u001b[0m\u001b[0m\n\u001b[0;32m---> 29\u001b[0;31m         \u001b[0mcorrect\u001b[0m \u001b[1;33m=\u001b[0m \u001b[0mspell\u001b[0m\u001b[1;33m(\u001b[0m\u001b[0mword\u001b[0m\u001b[1;33m)\u001b[0m\u001b[1;33m\u001b[0m\u001b[0m\n\u001b[0m\u001b[1;32m     30\u001b[0m         \u001b[1;32mif\u001b[0m \u001b[0mcorrect\u001b[0m \u001b[1;33m!=\u001b[0m \u001b[0mword\u001b[0m\u001b[1;33m:\u001b[0m\u001b[1;33m\u001b[0m\u001b[0m\n\u001b[1;32m     31\u001b[0m             \u001b[0mtext\u001b[0m \u001b[1;33m=\u001b[0m \u001b[0mtext\u001b[0m\u001b[1;33m.\u001b[0m\u001b[0mreplace\u001b[0m\u001b[1;33m(\u001b[0m\u001b[0mword\u001b[0m\u001b[1;33m,\u001b[0m \u001b[0mcorrect\u001b[0m\u001b[1;33m)\u001b[0m\u001b[1;33m\u001b[0m\u001b[0m\n",
      "\u001b[0;32mC:\\Users\\Darin\\Anaconda3\\lib\\site-packages\\autocorrect\\__init__.py\u001b[0m in \u001b[0;36mspell\u001b[0;34m(word)\u001b[0m\n\u001b[1;32m     21\u001b[0m     \u001b[0mw\u001b[0m \u001b[1;33m=\u001b[0m \u001b[0mWord\u001b[0m\u001b[1;33m(\u001b[0m\u001b[0mword\u001b[0m\u001b[1;33m)\u001b[0m\u001b[1;33m\u001b[0m\u001b[0m\n\u001b[1;32m     22\u001b[0m     candidates = (common([word]) or exact([word]) or known([word]) or\n\u001b[0;32m---> 23\u001b[0;31m                   \u001b[0mknown\u001b[0m\u001b[1;33m(\u001b[0m\u001b[0mw\u001b[0m\u001b[1;33m.\u001b[0m\u001b[0mtypos\u001b[0m\u001b[1;33m(\u001b[0m\u001b[1;33m)\u001b[0m\u001b[1;33m)\u001b[0m \u001b[1;32mor\u001b[0m \u001b[0mcommon\u001b[0m\u001b[1;33m(\u001b[0m\u001b[0mw\u001b[0m\u001b[1;33m.\u001b[0m\u001b[0mdouble_typos\u001b[0m\u001b[1;33m(\u001b[0m\u001b[1;33m)\u001b[0m\u001b[1;33m)\u001b[0m \u001b[1;32mor\u001b[0m\u001b[1;33m\u001b[0m\u001b[0m\n\u001b[0m\u001b[1;32m     24\u001b[0m                   [word])\n\u001b[1;32m     25\u001b[0m     \u001b[0mcorrection\u001b[0m \u001b[1;33m=\u001b[0m \u001b[0mmax\u001b[0m\u001b[1;33m(\u001b[0m\u001b[0mcandidates\u001b[0m\u001b[1;33m,\u001b[0m \u001b[0mkey\u001b[0m\u001b[1;33m=\u001b[0m\u001b[0mNLP_COUNTS\u001b[0m\u001b[1;33m.\u001b[0m\u001b[0mget\u001b[0m\u001b[1;33m)\u001b[0m\u001b[1;33m\u001b[0m\u001b[0m\n",
      "\u001b[0;32mC:\\Users\\Darin\\Anaconda3\\lib\\site-packages\\autocorrect\\word.py\u001b[0m in \u001b[0;36mdouble_typos\u001b[0;34m(self)\u001b[0m\n\u001b[1;32m     69\u001b[0m     \u001b[1;32mdef\u001b[0m \u001b[0mdouble_typos\u001b[0m\u001b[1;33m(\u001b[0m\u001b[0mself\u001b[0m\u001b[1;33m)\u001b[0m\u001b[1;33m:\u001b[0m\u001b[1;33m\u001b[0m\u001b[0m\n\u001b[1;32m     70\u001b[0m         \u001b[1;34m\"\"\"letter combinations two typos away from word\"\"\"\u001b[0m\u001b[1;33m\u001b[0m\u001b[0m\n\u001b[0;32m---> 71\u001b[0;31m         return {e2 for e1 in self.typos()\n\u001b[0m\u001b[1;32m     72\u001b[0m                 for e2 in Word(e1).typos()}\n\u001b[1;32m     73\u001b[0m \u001b[1;33m\u001b[0m\u001b[0m\n",
      "\u001b[0;32mC:\\Users\\Darin\\Anaconda3\\lib\\site-packages\\autocorrect\\word.py\u001b[0m in \u001b[0;36m<setcomp>\u001b[0;34m(.0)\u001b[0m\n\u001b[1;32m     70\u001b[0m         \u001b[1;34m\"\"\"letter combinations two typos away from word\"\"\"\u001b[0m\u001b[1;33m\u001b[0m\u001b[0m\n\u001b[1;32m     71\u001b[0m         return {e2 for e1 in self.typos()\n\u001b[0;32m---> 72\u001b[0;31m                 for e2 in Word(e1).typos()}\n\u001b[0m\u001b[1;32m     73\u001b[0m \u001b[1;33m\u001b[0m\u001b[0m\n\u001b[1;32m     74\u001b[0m \u001b[1;33m\u001b[0m\u001b[0m\n",
      "\u001b[0;31mKeyboardInterrupt\u001b[0m: "
     ]
    }
   ],
   "source": [
    "from nltk import word_tokenize\n",
    "from nltk.corpus import stopwords\n",
    "import string\n",
    "from autocorrect import spell\n",
    "from nltk.stem.porter import *\n",
    "from IPython.display import clear_output\n",
    "\n",
    "# stop words and Punctuation\n",
    "stop = stopwords.words('english') + list(string.punctuation)\n",
    "stemmer = PorterStemmer()\n",
    "\n",
    "\n",
    "#  Science, Math = Spelling not counted.\n",
    "text = ' ||| '.join(list(df['EssayText'])).lower()\n",
    "for pun in list(string.punctuation):\n",
    "    if pun != '|':\n",
    "        text = text.replace(pun,'')\n",
    "check = list(set(text.split(' ')))\n",
    "for i, word in enumerate(check):\n",
    "    clear_output(wait=True)\n",
    "    percent = (i)/len(check)\n",
    "    print('{:.3f}% complete'.format(100*percent))\n",
    "    A = int(50*percent)\n",
    "    B = 50 - A\n",
    "    print('[{}{}] Spellchecked...'.format('/'*A, '-'*B))\n",
    "    print('[{}] Tokenized'.format('-'*50))\n",
    "    print('[{}] Stemmed'.format('-'*50))\n",
    "    if not ('|') in word and word.isalpha():\n",
    "        correct = spell(word)\n",
    "        if correct != word:\n",
    "            text = text.replace(word, correct)\n",
    "            \n",
    "# Tokenize for processing...\n",
    "tokenized = []\n",
    "lst = text.split('|||')\n",
    "for i, essay in enumerate(lst):\n",
    "    clear_output(wait=True)\n",
    "    percent = (i)/len(lst)\n",
    "    print('{:.3f}% complete'.format(100*percent))\n",
    "    A = int(50*percent)\n",
    "    B = 50 - A\n",
    "    print('[{}] Spellchecked!'.format('/'*50))\n",
    "    print('[{}{}] Tokenized...'.format('/'*A, '-'*B))\n",
    "    print('[{}] Stemmed'.format('-'*50))\n",
    "    tokenized.append([i for i in word_tokenize(essay.lower()) if i not in stop])\n",
    "\n",
    "#\n",
    "# Stem them to avoid parts of speach, etc.\n",
    "stemmed = []\n",
    "for i, essay in enumerate(tokenized):\n",
    "    clear_output(wait=True)\n",
    "    percent = (i)/df.shape[0]\n",
    "    print('100% | 100% | {:.3f}% complete'.format(100*percent))\n",
    "    A = int(50*percent)\n",
    "    B = 50 - A\n",
    "    print('[{}] Spellchecked!'.format('/'*50))\n",
    "    print('[{}] Tokenized!'.format('/'*50))\n",
    "    print('[{}] Stemmed...'.format('/'*A, '-'*B))\n",
    "    stemmed.append([stemmer.stem(i) for i in essay if i not in stop])\n",
    "    \n",
    "clear_output(wait=True)\n",
    "df['EssayPrepped'] = stemmed\n",
    "df.head()"
   ]
  },
  {
   "cell_type": "code",
   "execution_count": 19,
   "metadata": {
    "collapsed": true
   },
   "outputs": [],
   "source": [
    "import pickle\n",
    "\n",
    "pickle.dump(df, open('processed_df','wb'))"
   ]
  },
  {
   "cell_type": "code",
   "execution_count": 22,
   "metadata": {
    "collapsed": false
   },
   "outputs": [
    {
     "name": "stdout",
     "output_type": "stream",
     "text": [
      "Requirement already satisfied: pyspell in c:\\users\\darin\\anaconda3\\lib\\site-packages (0.1.4)\n",
      "Requirement already satisfied: argparse in c:\\users\\darin\\anaconda3\\lib\\site-packages (from pyspell) (1.4.0)\n"
     ]
    },
    {
     "name": "stderr",
     "output_type": "stream",
     "text": [
      "msgpack-numpy 0.4.3 requires msgpack>=0.3.0, which is not installed.\n",
      "spacy 2.0.11 has requirement regex==2017.4.5, but you'll have regex 2017.11.9 which is incompatible.\n"
     ]
    }
   ],
   "source": [
    "!pip install pyspell"
   ]
  },
  {
   "cell_type": "code",
   "execution_count": 24,
   "metadata": {
    "collapsed": false
   },
   "outputs": [
    {
     "ename": "AttributeError",
     "evalue": "module 'pyspell' has no attribute 'Dictionary'",
     "output_type": "error",
     "traceback": [
      "\u001b[0;31m---------------------------------------------------------------------------\u001b[0m",
      "\u001b[0;31mAttributeError\u001b[0m                            Traceback (most recent call last)",
      "\u001b[0;32m<ipython-input-24-d7c9014079a3>\u001b[0m in \u001b[0;36m<module>\u001b[0;34m()\u001b[0m\n\u001b[1;32m      2\u001b[0m \u001b[1;33m\u001b[0m\u001b[0m\n\u001b[1;32m      3\u001b[0m \u001b[1;33m\u001b[0m\u001b[0m\n\u001b[0;32m----> 4\u001b[0;31m \u001b[0md\u001b[0m \u001b[1;33m=\u001b[0m \u001b[0mpyspell\u001b[0m\u001b[1;33m.\u001b[0m\u001b[0mDictionary\u001b[0m\u001b[1;33m(\u001b[0m\u001b[1;33m)\u001b[0m\u001b[1;33m\u001b[0m\u001b[0m\n\u001b[0m",
      "\u001b[0;31mAttributeError\u001b[0m: module 'pyspell' has no attribute 'Dictionary'"
     ]
    }
   ],
   "source": [
    "import pyspell\n",
    "\n",
    "\n",
    "d = pyspell.d"
   ]
  },
  {
   "cell_type": "code",
   "execution_count": 30,
   "metadata": {
    "collapsed": false
   },
   "outputs": [
    {
     "data": {
      "text/plain": [
       "'hipster'"
      ]
     },
     "execution_count": 30,
     "metadata": {},
     "output_type": "execute_result"
    }
   ],
   "source": [
    "spell('hipstwer')"
   ]
  },
  {
   "cell_type": "code",
   "execution_count": null,
   "metadata": {
    "collapsed": true
   },
   "outputs": [],
   "source": []
  }
 ],
 "metadata": {
  "anaconda-cloud": {},
  "kernelspec": {
   "display_name": "Python [conda root]",
   "language": "python",
   "name": "conda-root-py"
  },
  "language_info": {
   "codemirror_mode": {
    "name": "ipython",
    "version": 3
   },
   "file_extension": ".py",
   "mimetype": "text/x-python",
   "name": "python",
   "nbconvert_exporter": "python",
   "pygments_lexer": "ipython3",
   "version": "3.5.2"
  }
 },
 "nbformat": 4,
 "nbformat_minor": 1
}
